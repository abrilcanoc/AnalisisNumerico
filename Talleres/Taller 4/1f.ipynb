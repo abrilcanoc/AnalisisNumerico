{
  "nbformat": 4,
  "nbformat_minor": 0,
  "metadata": {
    "colab": {
      "name": "Taller4.ipynb",
      "provenance": []
    },
    "kernelspec": {
      "name": "python3",
      "display_name": "Python 3"
    },
    "language_info": {
      "name": "python"
    }
  },
  "cells": [
    {
      "cell_type": "code",
      "metadata": {
        "colab": {
          "base_uri": "https://localhost:8080/"
        },
        "id": "uWNKkWyfGslw",
        "outputId": "c2b3aae9-0b27-44a0-e380-b4e3da9aa55e"
      },
      "source": [
        "from scipy import integrate\n",
        "import math\n",
        "f= lambda x: x*(math.e**x)\n",
        "\n",
        "print(\"Resultado, error\")\n",
        "print(\"Cuadratura de Gauss para :(1,2)x^e(x) \")\n",
        "qua1=integrate.quadrature(f,1.0,2.0)\n",
        "print(qua1,\"\\n\")\n",
        "print(\"Cuadratura de Gauss para :(1,1.5)x^e(x)\")\n",
        "qua2=integrate.quadrature(f,1.0,1.5,args=(),tol=1e-01 ,rtol=1e-01)\n",
        "print(qua2,\"\\n\")\n",
        "print(\"Cuadratura de Gauss para :(1.5,2)x^e(x)\")\n",
        "qua3=integrate.quadrature(f,1.5,2)\n",
        "print(qua3,\"\\n\")\n",
        "\n",
        "print(\"Particion (1,1.5)x^e(x)+(1.5,2)x^e(x):\")\n",
        "qua4=qua2[0]+qua3[0]\n",
        "print(qua4)\n",
        "\n",
        "#print(qua1[0]-qua4,\"\\n\")\n",
        "print (qua2[1]+qua3[1])\n",
        "solwolfram = 7.38905609893065022723042746057500781318\n",
        "\n",
        "#print (solwolfram - qua1[0],\"\\n\")\n",
        "#print (solwolfram -qua4,\"\\n\")\n"
      ],
      "execution_count": 11,
      "outputs": [
        {
          "output_type": "stream",
          "name": "stdout",
          "text": [
            "Resultado, error\n",
            "Cuadratura de Gauss para :(1,2)x^e(x) \n",
            "(7.389056098910194, 2.4103464113522932e-08) \n",
            "\n",
            "Cuadratura de Gauss para :(1,1.5)x^e(x)\n",
            "(2.240711526312105, 0.059247177898454684) \n",
            "\n",
            "Cuadratura de Gauss para :(1.5,2)x^e(x)\n",
            "(5.1482115637616035, 6.17310647044178e-11) \n",
            "\n",
            "Particion (1,1.5)x^e(x)+(1.5,2)x^e(x):\n",
            "7.388923090073709\n",
            "0.05924717796018575\n"
          ]
        }
      ]
    }
  ]
}