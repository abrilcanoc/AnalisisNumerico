{
  "nbformat": 4,
  "nbformat_minor": 0,
  "metadata": {
    "colab": {
      "name": "1k.ipynb",
      "provenance": []
    },
    "kernelspec": {
      "name": "python3",
      "display_name": "Python 3"
    },
    "language_info": {
      "name": "python"
    }
  },
  "cells": [
    {
      "cell_type": "markdown",
      "metadata": {
        "id": "fNNpEluLHWS2"
      },
      "source": [
        "##Método 1##\n",
        "Se ingeresan los puntos de la mitad superior, y se realiza una vaz más con los de la mitad inferior que se ajustan con lagrange y se suman los resultados."
      ]
    },
    {
      "cell_type": "code",
      "metadata": {
        "id": "DYTcqLdwHJW9"
      },
      "source": [
        "import numpy as np\n",
        "\n",
        "\n",
        "def prod(A):\n",
        "    a = 1\n",
        "    for i in range(len(A)):\n",
        "        a = a * A[i]\n",
        "    return a\n",
        "\n",
        "\n",
        "def lagrange(a, n):\n",
        "    results = []\n",
        "    lfun = np.arange((len(a[0])) ** 2, dtype=float)\n",
        "    lfun.shape = (len(a[0]), len(a[0]))\n",
        "\n",
        "    for i in range(len(a[0])):\n",
        "        for j in range(len(lfun)):\n",
        "            if i == j:\n",
        "                lfun[i, j] = 1\n",
        "            else:\n",
        "                lfun[i, j] = (n - a[0][j]) / (a[0][i] - a[0][j])\n",
        "    for i in range(len(a[1])):\n",
        "        results.append(prod(lfun[i]) * a[1][i])\n",
        "\n",
        "    return sum(results)\n",
        "\n",
        "\n",
        "def main():\n",
        "    cantPoints = int(input(\"Ingrese cantidad de puntos conocidos> \"))\n",
        "    if cantPoints < 2:\n",
        "        print(\"\\nCANTIDAD DE PUNTOS CONOCIDOS >= 2\\n\")\n",
        "        main()\n",
        "\n",
        "    integs = []\n",
        "    points = [[], []]\n",
        "    midPoints = [[], []]\n",
        "\n",
        "    for i in range(cantPoints):\n",
        "        print (\"\\n( x\", i, \",y\", i, \")\")\n",
        "        x = float(input(\"Ingrese 'x'> \"))\n",
        "        y = float(input(\"Ingrese 'y'> \"))\n",
        "        points[0].append(x)\n",
        "        points[1].append(y)\n",
        "\n",
        "    for i in range(len(points[0]) - 1):\n",
        "        midPoints[0].append((points[0][i + 1] + points[0][i]) / 2)\n",
        "        midPoints[1].append(lagrange(points, midPoints[0][i]))\n",
        "\n",
        "    for i in range(len(midPoints[0])):\n",
        "        intg = ((points[0][i + 1] - points[0][i]) / 6) * \\\n",
        "               (points[1][i] + (4 * midPoints[1][i]) + points[1][i + 1])\n",
        "        integs.append(intg)\n",
        "\n",
        "    print (\"\\n\\tIntegral: \", sum(integs))\n",
        "\n",
        "\n",
        "print(\"\\n\\tREGLA DE SIMPSON\\n\\n\")\n",
        "main()"
      ],
      "execution_count": null,
      "outputs": []
    },
    {
      "cell_type": "markdown",
      "metadata": {
        "id": "Noq01vy8Hsm_"
      },
      "source": [
        "Resultado: 302.15755208333331"
      ]
    },
    {
      "cell_type": "markdown",
      "metadata": {
        "id": "_TD1uT8wFZKo"
      },
      "source": [
        "##Método 2##\n",
        " Se obtienen las funciones con polyfit y se integra la resta de las funciones  "
      ]
    },
    {
      "cell_type": "code",
      "metadata": {
        "id": "ajAdRvw6nJVe",
        "colab": {
          "base_uri": "https://localhost:8080/",
          "height": 405
        },
        "outputId": "cb5fb261-71d0-403a-c761-f1a8964a94a1"
      },
      "source": [
        "import numpy as np\n",
        "import matplotlib.pyplot as plt\n",
        "from sklearn.metrics import r2_score\n",
        "\n",
        "x1 = np.array([0,4,8,12,16,20,24,28,32])\n",
        "y1 = np.array([0,6,8,8.5,9,8,7,5,0])\n",
        "x2 = np.array([0,4,8,12,16,20,24,28,32])\n",
        "y2 = np.array([0,-3,-2.5,-2.8,-3.4,-4.2,-4,-2.5,0])\n",
        "\n",
        "mymodel1 = np.poly1d(np.polyfit(x1, y1, 2))\n",
        "myline1 = np.linspace(0, 32, 50)\n",
        "mymodel2 = np.poly1d(np.polyfit(x2, y2, 2))\n",
        "myline2 = np.linspace(0, 32, 50)\n",
        "\n",
        "print(mymodel1)\n",
        "print(r2_score(y1, mymodel1(x1)),'\\n')\n",
        "\n",
        "print(mymodel2)\n",
        "print(r2_score(y2, mymodel2(x2)),'\\n')\n",
        "\n",
        "plt.scatter(x1, y1)\n",
        "plt.scatter(x2, y2)\n",
        "plt.plot(myline1, mymodel1(myline1))\n",
        "plt.plot(myline2, mymodel2(myline2))\n",
        "plt.show()"
      ],
      "execution_count": 8,
      "outputs": [
        {
          "output_type": "stream",
          "name": "stdout",
          "text": [
            "          2\n",
            "-0.03406 x + 1.067 x + 1.003\n",
            "0.9523926591245349 \n",
            "\n",
            "         2\n",
            "0.01356 x - 0.4461 x - 0.2703\n",
            "0.7793127865629343 \n",
            "\n"
          ]
        },
        {
          "output_type": "display_data",
          "data": {
            "image/png": "[encoded data removed]",
            "text/plain": [
              "<Figure size 432x288 with 1 Axes>"
            ]
          },
          "metadata": {
            "needs_background": "light"
          }
        }
      ]
    },
    {
      "cell_type": "code",
      "metadata": {
        "colab": {
          "base_uri": "https://localhost:8080/"
        },
        "id": "VCdFa5il-xUL",
        "outputId": "4e935eb8-70d9-40b8-da41-846240a15fb7"
      },
      "source": [
        "#Importamos math\n",
        "from math import *\n",
        " \n",
        "#Definimos la funcion\n",
        "#@ n: numero de x\n",
        "#@ a y b los intervalos de la integral\n",
        "#@ f: La funcion a integrar\n",
        "def simpson13(n, a, b, f):\n",
        "    #calculamos h\n",
        "    h = (b - a) / n\n",
        "    #Inicializamos nuestra varible donde se almacenara las sumas\n",
        "    suma = 0.0\n",
        "    #hacemos un ciclo para ir sumando las areas\n",
        "    for i in range(1, n):\n",
        "        #calculamos la x\n",
        "        #x = a - h + (2 * h * i)\n",
        "        x = a + i * h\n",
        "        # si es par se multiplica por 4\n",
        "        if(i % 2 == 0):\n",
        "            suma = suma + 2 * fx(x, f)\n",
        "        #en caso contrario se multiplica por 2\n",
        "        else:\n",
        "            suma = suma + 4 * fx(x, f)\n",
        "    #sumamos los el primer elemento y el ultimo\n",
        "    suma = suma + fx(a, f) + fx(b, f)\n",
        "    #Multiplicamos por h/3\n",
        "    rest = suma * (h / 3)\n",
        "    #Retornamos el resultado\n",
        "    return (rest)\n",
        " \n",
        "#Funcion que nos ayuda a evaluar las funciones\n",
        "def fx(x, f):\n",
        "    return eval(f)\n",
        " \n",
        "#valores de ejemplo para la funcion sin(x) con intervalos de\n",
        "n = 8\n",
        "a = 0.0\n",
        "b = 32.0\n",
        "f = '(-0.03406*x**2 + 1.067*x + 1.003) - (0.01356*x**2 - 0.4461*x - 0.2703)'\n",
        " \n",
        "print(simpson13(n, a, b, f))"
      ],
      "execution_count": 12,
      "outputs": [
        {
          "output_type": "stream",
          "name": "stdout",
          "text": [
            "295.31541333333325\n"
          ]
        }
      ]
    },
    {
      "cell_type": "markdown",
      "metadata": {
        "id": "4bqsCy3YHzmF"
      },
      "source": [
        "Resultado: 295.31541333333325 "
      ]
    }
  ]
}